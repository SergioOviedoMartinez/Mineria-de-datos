{
 "cells": [
  {
   "cell_type": "code",
   "execution_count": 2,
   "metadata": {},
   "outputs": [
    {
     "name": "stdout",
     "output_type": "stream",
     "text": [
      "Concatenar Matricula + Nombre:  1750532Sergio Oviedo Martinez\n"
     ]
    }
   ],
   "source": [
    "#Ejercicio1\n",
    "Matricula=1750532\n",
    "Nombre=\"Sergio Oviedo Martinez\"\n",
    "\n",
    "print(\"Concatenar Matricula + Nombre: \",str(Matricula)+Nombre)"
   ]
  },
  {
   "cell_type": "code",
   "execution_count": 120,
   "metadata": {},
   "outputs": [
    {
     "name": "stdout",
     "output_type": "stream",
     "text": [
      "Inroduce el primero Numero:  1\n",
      "Introduce el segundo Numero: 2\n",
      "Menu\n",
      "1-Suma\n",
      "2-Resta\n",
      "3-Multiplicacion\n",
      "4-Division\n",
      "Opcion: 1\n",
      "Suma:\t 3\n",
      "Desea Ejecutar nuevamente el programa escriba si o escriba no: no\n"
     ]
    }
   ],
   "source": [
    "#Ejercicio2\n",
    "import os\n",
    "def Suma (a,b):\n",
    "    suma=a+b\n",
    "    return suma\n",
    "def Resta (a,b):\n",
    "    resta=a-b\n",
    "    return resta\n",
    "def Multi (a,b):\n",
    "    multi=a*b\n",
    "    return multi\n",
    "def Div (a,b):\n",
    "    div=a/b\n",
    "    return div\n",
    "opc='si'\n",
    "while opc=='si':\n",
    "    os.system(\"cls\")\n",
    "    Num1= int(input(\"Inroduce el primero Numero:  \"))\n",
    "    Num2= int(input(\"Introduce el segundo Numero: \"))\n",
    "    os.system(\"cls\")\n",
    "    opcion = int(input(\"Menu\\n1-Suma\\n2-Resta\\n3-Multiplicacion\\n4-Division\\nOpcion: \"))\n",
    "    if opcion == 1:\n",
    "        print(\"Suma:\\t\",Suma(Num1,Num2))\n",
    "    if opcion == 2:\n",
    "        print(\"Resta:\\t\",Resta(Num1,Num2))\n",
    "    if opcion == 3:\n",
    "        print(\"Multi:\\t\",Multi(Num1,Num2))\n",
    "    if opcion == 4:\n",
    "        print(\"Div:\\t\",Div(Num1,Num2))\n",
    "    opc= input(\"Desea Ejecutar nuevamente el programa escriba si o escriba no: \")"
   ]
  },
  {
   "cell_type": "code",
   "execution_count": 26,
   "metadata": {},
   "outputs": [
    {
     "name": "stdout",
     "output_type": "stream",
     "text": [
      "La suma de tus numeros es:  165\n"
     ]
    }
   ],
   "source": [
    "#Ejercicio3\n",
    "def Suma_Lista (lista):\n",
    "    suma=0\n",
    "    for i in lista:\n",
    "        suma=i+suma\n",
    "    return suma\n",
    "    \n",
    "Lista=[]\n",
    "secuencia=0\n",
    "for i in range (10):\n",
    "    secuencia=secuencia + 3\n",
    "    Lista.append(secuencia)\n",
    "print(\"La suma de tus numeros es: \",Suma_Lista(Lista))\n"
   ]
  },
  {
   "cell_type": "code",
   "execution_count": 37,
   "metadata": {},
   "outputs": [
    {
     "name": "stdout",
     "output_type": "stream",
     "text": [
      "Ingrese un Numero: 71\n",
      "Tu Numero es:  --Impar--\n",
      "Tu Numero es primo:  True\n"
     ]
    }
   ],
   "source": [
    "#Ejercicio4\n",
    "def Numero_Par(num):\n",
    "    if num%2==0:\n",
    "        estatus='--Par--'\n",
    "    else:\n",
    "        estatus='--Impar--'\n",
    "    return estatus\n",
    "    \n",
    "def Numero_Primo(num):\n",
    "    if num==1:\n",
    "        return False\n",
    "    elif num==2:\n",
    "        return True\n",
    "    else:\n",
    "        for i in range(2, num):\n",
    "            if num % i == 0:\n",
    "                return False\n",
    "            \n",
    "        return True\n",
    "    \n",
    "    \n",
    "Num=int(input(\"Ingrese un Numero: \"))\n",
    "print(\"Tu Numero es: \",Numero_Par(Num))\n",
    "print(\"Tu Numero es primo: \",Numero_Primo(Num))"
   ]
  },
  {
   "cell_type": "code",
   "execution_count": 121,
   "metadata": {},
   "outputs": [
    {
     "name": "stdout",
     "output_type": "stream",
     "text": [
      "-----Menu-----\n",
      "1-Suma\n",
      "2-Resta\n",
      "3-Multiplicacion\n",
      "4-Division\n",
      "5-Exponente\n",
      "Opcion: 1\n",
      "Ingrese el Primer Numero:  1\n",
      "Ingrese el Segundo Numero: 1\n",
      "El Resultado de tu suma es:  2\n",
      "Desea Seguir en el programa -si  -no: no\n"
     ]
    }
   ],
   "source": [
    "#Ejercicio5\n",
    "class Calculadora:\n",
    "    def Suma(self, num1, num2):\n",
    "        print(\"El Resultado de tu suma es: \", str(num1+num2))\n",
    "    def Resta(self, num1, num2):\n",
    "        print(\"El Resultado de tu resta es: \",str(num1-num2))\n",
    "    def Multiplicacion(self, num1, num2):\n",
    "        print(\"El Resultado de tu multiplicacion es: \",str(num2*num1))\n",
    "    def Dividir(self,num1, num2):\n",
    "        print(\"El resultado de tu division es: \",str(num1/num2))\n",
    "    def Potencia(self, num1, num2):\n",
    "        print(\"El resultado de tu exponente: \", str(num1**num2))\n",
    "\n",
    "\n",
    "\n",
    "opc='si'\n",
    "while opc=='si':\n",
    "    calc=Calculadora()\n",
    "    Opcion=int(input(\"-----Menu-----\\n1-Suma\\n2-Resta\\n3-Multiplicacion\\n4-Division\\n5-Exponente\\nOpcion: \"))\n",
    "    Num1=int(input(\"Ingrese el Primer Numero:  \"))\n",
    "    Num2=int(input(\"Ingrese el Segundo Numero: \"))\n",
    "    if Opcion==1:\n",
    "        calc.Suma(Num1,Num2)\n",
    "    if Opcion==2:\n",
    "        calc.Resta(Num1,Num2)\n",
    "    if Opcion==3:\n",
    "        calc.Multiplicacion(Num1,Num2)\n",
    "    if Opcion==4:\n",
    "        calc.Dividir(Num1,Num2)\n",
    "    if Opcion==5:\n",
    "        calc.Potencia(Num1,Num2)\n",
    "    opc=input(\"Desea Seguir en el programa -si  -no: \")"
   ]
  },
  {
   "cell_type": "code",
   "execution_count": 122,
   "metadata": {},
   "outputs": [
    {
     "name": "stdout",
     "output_type": "stream",
     "text": [
      "La tupla es, (3.1416, 1750532, True, 'Hola')\n",
      "3.1416 es <class 'float'>\n",
      "1750532 es <class 'int'>\n",
      "True es <class 'bool'>\n",
      "Hola es <class 'str'>\n",
      "\n",
      "\n",
      "Nueva Tupla:  (1, 2, 3, 4, 5, 6, 7, 8, 9, 10)\n",
      "Primer Elemento:  1\n",
      "Ultimo Elemento:  10\n",
      "Nueva Tupla:  (1, 2, 3, 4, 5, 6, 7, 8, 9, 10, 'Hola', 'Mundo', 'Buen Dia')\n"
     ]
    },
    {
     "data": {
      "text/plain": [
       "False"
      ]
     },
     "execution_count": 122,
     "metadata": {},
     "output_type": "execute_result"
    }
   ],
   "source": [
    "#EjercicioDeTuplias\n",
    "#Primer Punto\n",
    "tupla=(3.1416,1750532,True,\"Hola\")\n",
    "print(\"La tupla es,\",tupla)\n",
    "print(tupla[0],\"es\", type(tupla[0]))\n",
    "print(tupla[1],\"es\", type(tupla[1]))\n",
    "print(tupla[2],\"es\", type(tupla[2]))\n",
    "print(tupla[3],\"es\", type(tupla[3]))\n",
    "\n",
    "#Segun Punto\n",
    "tupla2=(1,2,3,4,5,6,7,8,9,10)\n",
    "print(\"\\n\\nNueva Tupla: \", tupla2)\n",
    "print(\"Primer Elemento: \",tupla2[0])\n",
    "print(\"Ultimo Elemento: \",tupla2[len(tupla2)-1])\n",
    "\n",
    "#Tercer Punto\n",
    "#Utilizando la tupla anterior\n",
    "tupla2= tupla2 + (\"Hola\",\"Mundo\",\"Buen Dia\")\n",
    "print(\"Nueva Tupla: \",tupla2)\n",
    "\n",
    "#TercerPunto\n",
    "lisvar = []\n",
    "hola='Hola'\n",
    "lisvar.extend((hola)) \n",
    "any(t in tupla for t in lisvar)"
   ]
  },
  {
   "cell_type": "code",
   "execution_count": 95,
   "metadata": {
    "scrolled": true
   },
   "outputs": [
    {
     "name": "stdout",
     "output_type": "stream",
     "text": [
      "lista:  [626, 524, 702, 266, 510, 413, 674, 737, 366, 370, 947, 560, 435, 465, 707, 680, 980, 186, 446, 829, 265, 218, 164, 90, 798, 738, 206, 366, 743, 169, 771, 251, 952, 814, 861, 962, 272, 873, 482, 197] \n",
      "\n",
      "Numeros pares:    [626, 524, 702, 266, 510, 674, 366, 370, 560, 680, 980, 186, 446, 218, 164, 90, 798, 738, 206, 366, 952, 814, 962, 272, 482]\n",
      "Numeros impares:  [413, 737, 947, 435, 465, 707, 829, 265, 743, 169, 771, 251, 861, 873, 197]\n",
      "Longitud de la lista de Pares:  25 \n",
      "Longitud de la lista de Impares:  15\n",
      "\n",
      "mayor a menor:  [980, 962, 952, 814, 798, 738, 702, 680, 674, 626, 560, 524, 510, 482, 446, 370, 366, 366, 272, 266, 218, 206, 186, 164, 90] \n",
      "menor a mayor:  [169, 197, 251, 265, 413, 435, 465, 707, 737, 743, 771, 829, 861, 873, 947]\n",
      "10\n",
      "Lista:  [10, 197, 482, 873, 272, 962, 861, 814, 952, 251, 771, 169, 743, 366, 206, 738, 798, 90, 164, 218, 265, 829, 446, 186, 980, 680, 707, 465, 435, 560, 947, 370, 366, 737, 674, 413, 510, 266, 702, 524, 626]\n",
      "None\n"
     ]
    }
   ],
   "source": [
    "#EjercicioDeListas\n",
    "#Crear una lista con 40 elementos aleatorios enteros\n",
    "import random as r\n",
    "import os\n",
    "lista = []\n",
    "i=0\n",
    "while i < 40:\n",
    "    num = r.randint (0,1000)\n",
    "    lista.append(num)\n",
    "    i = i+1\n",
    "print(\"lista: \",lista,\"\\n\")\n",
    "#Con una función (def) crear dos listas nuevas a partir de la lista creada por números aleatorios,en la cuál en una esten los elementos pares, y en la otra los elementos impares.\n",
    "listapar = []\n",
    "listaimpar = []\n",
    "def PareseImpares(lista):\n",
    "    i=0\n",
    "    aux=0\n",
    "    for i in lista:\n",
    "        if i%2 == 0:\n",
    "            listapar.append(i)\n",
    "        else:\n",
    "            listaimpar.append(i)\n",
    "    print(\"Numeros pares:   \",listapar)\n",
    "    print(\"Numeros impares: \",listaimpar)\n",
    "PareseImpares (lista)\n",
    "#Crear dos variables con la longitud de ambas listas nuevas e imprimir las variables.\n",
    "LongitudPares=len(listapar)\n",
    "LongitudImpares=len(listaimpar)\n",
    "print(\"Longitud de la lista de Pares: \", LongitudPares,\"\\nLongitud de la lista de Impares: \", LongitudImpares)\n",
    "#Ordenar los elementos de la lista par de mayor a menor, y los de la lista impar de menor a mayor.\n",
    "maymen= sorted(listapar,reverse=True)\n",
    "menmay= sorted(listaimpar)\n",
    "\n",
    "print(\"\\nmayor a menor: \", maymen, \"\\nmenor a mayor: \", menmay)\n",
    "#Utilizar al menos cuatro de las funciones de listas en python en la lista original de 40 elementos.\n",
    "lista.append(10)\n",
    "lista.reverse()\n",
    "len(lista)\n",
    "print(lista[0])\n",
    "print(\"Lista: \",lista)\n",
    "print(lista.reverse())\n",
    "\n",
    "\n"
   ]
  },
  {
   "cell_type": "code",
   "execution_count": 104,
   "metadata": {},
   "outputs": [
    {
     "name": "stdout",
     "output_type": "stream",
     "text": [
      "Diccionario:  {'Oviedo': 23, 'Andres': 22, 'Jose': 18, 'Gerardo': 29, 'Liliana': 26, 'Laila': 2}\n",
      "Valores de menor a mayor:  [2, 18, 22, 23, 26, 29]\n",
      "-----Nombres-----\n",
      "Oviedo\n",
      "Andres\n",
      "Jose\n",
      "Gerardo\n",
      "Liliana\n",
      "Laila\n",
      "Diccionario {'Oviedo': 23, 'Andres': 22, 'Jose': 18, 'Gerardo': 29, 'Liliana': 26, 'Laila': 2, 'Thiago': 4, 'Fernando': 22}\n"
     ]
    }
   ],
   "source": [
    "#EjerciciosDeDiccionarios\n",
    "#Crear un diccionario de 6 personas que conozcas con su primer nombre y su edad.\n",
    "Diccionario= {'Oviedo':23 , 'Andres':22, 'Jose':18, 'Gerardo':29, 'Liliana':26, 'Laila':2}\n",
    "print(\"Diccionario: \",Diccionario)\n",
    "\n",
    "#Crear una lista con los valores de la edad y reacomodar la lista de menor a mayor valor.\n",
    "ListaDic = Diccionario.values()\n",
    "ListaDic = sorted(ListaDic)\n",
    "print(\"Valores de menor a mayor: \", ListaDic)\n",
    "\n",
    "#Usando el diccionario y un loop, imprimir solo los nombres.\n",
    "print (\"-----Nombres-----\")\n",
    "for i in Diccionario:\n",
    "    print(i)\n",
    "\n",
    "#Añadir dos personas nuevas a tu diccionario, incluyendo edad.\n",
    "Diccionario['Thiago']=4\n",
    "Diccionario['Fernando']=22\n",
    "print(\"Diccionario\",Diccionario)\n"
   ]
  },
  {
   "cell_type": "code",
   "execution_count": 119,
   "metadata": {},
   "outputs": [
    {
     "name": "stdout",
     "output_type": "stream",
     "text": [
      "Set Aleatorio:  {1, 2, 3, 4, 5, 6, 7, 8, 9, 10, 11, 12, 13, 14, 15, 16, 17, 18, 19, 20, 21, 22, 23, 24, 25}\n",
      "Longitud 25\n",
      "\n",
      "el numero:  6 , esta en el set inicial?  True\n",
      "\n",
      "el numero:  10 , esta en el set inicial?  True\n",
      "\n",
      "el numero:  6 , esta en el set inicial?  True\n",
      "\n",
      "el numero:  10 , esta en el set inicial?  True\n",
      "\n",
      "el numero:  2 , esta en el set inicial?  True\n",
      "\n",
      "el numero:  10 , esta en el set inicial?  True\n",
      "\n",
      "el numero:  10 , esta en el set inicial?  True\n",
      "\n",
      "el numero:  8 , esta en el set inicial?  True\n",
      "\n",
      "el numero:  7 , esta en el set inicial?  True\n",
      "\n",
      "el numero:  7 , esta en el set inicial?  True\n"
     ]
    }
   ],
   "source": [
    "#EjerciciosDeSets\n",
    "#Crea un set con 100 numeros aleatorios enteros del 1 al 25.\n",
    "import random as r\n",
    "Set=set()\n",
    "Lista=[]\n",
    "aux=0\n",
    "for i in range(100):\n",
    "    aux=r.randint(1,25)\n",
    "    Lista.append(aux)\n",
    "Set=set(Lista)\n",
    "print(\"Set Aleatorio: \", Set)\n",
    "\n",
    "#Comprueba la longitud de tu set.\n",
    "print(\"Longitud\", len(Set))\n",
    "\n",
    "#Crea una lista de 5 numeros aleatorios del 1 al 10 y comprueba si cada valor aparece en el set inicial.\n",
    "lista5= []\n",
    "i = 0\n",
    "while i< 10:\n",
    "    num = r.randint(1,10)\n",
    "    lista5.append(num)\n",
    "    i = i+1\n",
    "i= 0\n",
    "while i< 10:\n",
    "    comparador = lista5[i] in Set\n",
    "    print(\"\\nel numero: \",lista5[i],\", esta en el set inicial? \",comparador)\n",
    "    i = i+1\n",
    "\n"
   ]
  }
 ],
 "metadata": {
  "kernelspec": {
   "display_name": "Python 3",
   "language": "python",
   "name": "python3"
  },
  "language_info": {
   "codemirror_mode": {
    "name": "ipython",
    "version": 3
   },
   "file_extension": ".py",
   "mimetype": "text/x-python",
   "name": "python",
   "nbconvert_exporter": "python",
   "pygments_lexer": "ipython3",
   "version": "3.8.5"
  }
 },
 "nbformat": 4,
 "nbformat_minor": 4
}
